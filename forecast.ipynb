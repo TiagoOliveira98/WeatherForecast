{
 "cells": [
  {
   "attachments": {},
   "cell_type": "markdown",
   "metadata": {},
   "source": [
    "Import Dependencies"
   ]
  },
  {
   "cell_type": "code",
   "execution_count": null,
   "metadata": {},
   "outputs": [],
   "source": [
    "# Library to load and treat data\n",
    "import pandas as pd\n",
    "#Library for framework for interpretable time series forecasting\n",
    "from neuralprophet import NeuralProphet\n",
    "#Library for plotting\n",
    "from matplotlib import pyplot as plt\n",
    "#Library to save the model\n",
    "import pickle"
   ]
  },
  {
   "attachments": {},
   "cell_type": "markdown",
   "metadata": {},
   "source": [
    "Read Data"
   ]
  },
  {
   "cell_type": "code",
   "execution_count": null,
   "metadata": {},
   "outputs": [],
   "source": [
    "df = pd.read_csv('./data/weatherAUS.csv')\n",
    "print(df.head())\n",
    "#Verify the locations existing in the data\n",
    "print(df.Location.unique())\n",
    "#Let's choose Melbourne!\n",
    "#Verify the features available in data\n",
    "print(df.columns)\n",
    "#Let´s forecast the temperature at 3pm!\n",
    "\n",
    "#Check features type\n",
    "print(df.dtypes)\n",
    "#Date is of object type, it is necessary to convert it into time\n",
    "#We are only going to utilize the Melbourne data we can trim everything else\n",
    "melbdf = df[df['Location']=='Melbourne']\n",
    "melbdf['Date'] = pd.to_datetime(melbdf['Date'])\n",
    "print(melbdf.head())\n",
    "print(melbdf.dtypes)"
   ]
  },
  {
   "attachments": {},
   "cell_type": "markdown",
   "metadata": {},
   "source": [
    "Treat data"
   ]
  },
  {
   "cell_type": "code",
   "execution_count": null,
   "metadata": {},
   "outputs": [],
   "source": [
    "#PLot the temperature overtime\n",
    "plt.plot(melbdf['Date'],melbdf['Temp3pm'])\n",
    "plt.show()\n",
    "#We can see a large amount of data that is missing\n",
    "\n",
    "#Let's treat the data and remove this gap (Cut everything after 2015)\n",
    "#Create a column with teh year feature\n",
    "melbdf['Year'] = melbdf['Date'].apply(lambda x: x.year)\n",
    "melbdf = melbdf[melbdf['Year']<=2015]\n",
    "plt.plot(melbdf['Date'],melbdf['Temp3pm'])\n",
    "plt.show()\n",
    "\n",
    "#We need trim the data since the framework expects only two columns: ds, y\n",
    "data = melbdf[['Date','Temp3pm']]\n",
    "#Drop any NA values\n",
    "data.dropna(inplace=True)\n",
    "data.columns = ['ds', 'y']\n",
    "print(data.head())"
   ]
  },
  {
   "attachments": {},
   "cell_type": "markdown",
   "metadata": {},
   "source": [
    "Train Model"
   ]
  },
  {
   "cell_type": "code",
   "execution_count": null,
   "metadata": {},
   "outputs": [],
   "source": [
    "model = NeuralProphet()\n",
    "#Uses ARNet in teh background that is a good neural network in time series forecasting\n",
    "model.fit(data, freq='D', epochs=500)\n",
    "# 1000 epochs -> loss=0.0116, v_num=0, MAE=3.020, RMSE=3.920, Loss=0.0108, RegLoss=0.000\n",
    "# 500 epochs -> loss=0.0102, v_num=1, MAE=3.020, RMSE=3.930, Loss=0.0108, RegLoss=0.000\n",
    "# 2000 epochs -> loss=0.0105, v_num=2, MAE=3.010, RMSE=3.920, Loss=0.0108, RegLoss=0.000\n",
    "\n",
    "###### Forecast ######\n",
    "#Let's make a dataframe with enlarged time\n",
    "future = model.make_future_dataframe(data, periods=900)\n",
    "forecast = model.predict(future)\n",
    "print(forecast.head())\n",
    "#Plot the forecast\n",
    "plot1 = model.plot(forecast)"
   ]
  },
  {
   "attachments": {},
   "cell_type": "markdown",
   "metadata": {},
   "source": [
    "Save Model"
   ]
  },
  {
   "cell_type": "code",
   "execution_count": null,
   "metadata": {},
   "outputs": [],
   "source": [
    "with open('forecast_model.pkl', 'wb') as f:\n",
    "    pickle.dump(model,f)"
   ]
  },
  {
   "attachments": {},
   "cell_type": "markdown",
   "metadata": {},
   "source": [
    "To Load Model"
   ]
  },
  {
   "cell_type": "code",
   "execution_count": null,
   "metadata": {},
   "outputs": [],
   "source": [
    "#To load\n",
    "#with open('forecast_model.pkl', 'rb') as f:\n",
    "#    model = pickle.load(f)"
   ]
  }
 ],
 "metadata": {
  "language_info": {
   "name": "python"
  },
  "orig_nbformat": 4
 },
 "nbformat": 4,
 "nbformat_minor": 2
}
